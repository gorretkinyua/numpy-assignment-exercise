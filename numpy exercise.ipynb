{
 "cells": [
  {
   "cell_type": "markdown",
   "id": "144ed6fd",
   "metadata": {},
   "source": [
    "Title: NumPy Assignment\n",
    "In this assignment, you'll practice using NumPy to solve a problem. You have been given a dataset that represents the height (in centimeters) of 10 students in a class.\n",
    "\n",
    "Dataset:\n",
    "heights = np.array([160, 155, 172, 165, 180, 158, 175, 163, 171, 168])"
   ]
  },
  {
   "cell_type": "code",
   "execution_count": 5,
   "id": "c550fd86",
   "metadata": {},
   "outputs": [],
   "source": [
    "import numpy as np\n",
    "heights = np.array([160, 155, 172, 165, 180, 158, 175, 163, 171, 168])\n"
   ]
  },
  {
   "cell_type": "markdown",
   "id": "6172138c",
   "metadata": {},
   "source": [
    "Your task is to:\n",
    "\n",
    "Calculate the mean, median, and standard deviation of the students' heights.\n",
    "\n",
    "Create a new array with the heights normalized, i.e., each height value should be transformed to have a mean of 0 and a standard deviation of 1.\n",
    "\n",
    "Determine the tallest and shortest students in the class using NumPy's argmax and argmin functions.\n",
    "\n",
    "Calculate the difference between the tallest and shortest students' heights.\n",
    "\n",
    "Randomly select 5 heights from the dataset without replacement.\n",
    "\n",
    "Complete the assignment by writing Python code using NumPy. Remember to first import NumPy and use its functions to perform the required calculations. Good luck!\n",
    "\n",
    "Note: The purpose of this assignment is to test your understanding of NumPy concepts covered in this curriculum. Try to complete the assignment without referring back to the curriculum, but if you get stuck, feel free to review the topics and examples provided."
   ]
  },
  {
   "cell_type": "code",
   "execution_count": 6,
   "id": "2df6497b",
   "metadata": {},
   "outputs": [
    {
     "name": "stdout",
     "output_type": "stream",
     "text": [
      "mean: 166.7\n"
     ]
    }
   ],
   "source": [
    "mean=np.mean([160, 155, 172, 165, 180, 158, 175, 163, 171, 168])\n",
    "print(\"mean:\",mean)"
   ]
  },
  {
   "cell_type": "code",
   "execution_count": 7,
   "id": "9bc2af28",
   "metadata": {},
   "outputs": [
    {
     "name": "stdout",
     "output_type": "stream",
     "text": [
      "median: 166.5\n"
     ]
    }
   ],
   "source": [
    "median=np.median([160, 155, 172, 165, 180, 158, 175, 163, 171, 168])\n",
    "print(\"median:\",median)"
   ]
  },
  {
   "cell_type": "code",
   "execution_count": 8,
   "id": "9a690d92",
   "metadata": {},
   "outputs": [
    {
     "name": "stdout",
     "output_type": "stream",
     "text": [
      "standard deviation: 7.5372408744845085\n"
     ]
    }
   ],
   "source": [
    "std_dev=np.std([160, 155, 172, 165, 180, 158, 175, 163, 171, 168])\n",
    "print(\"standard deviation:\",std_dev)"
   ]
  },
  {
   "cell_type": "code",
   "execution_count": 13,
   "id": "065d8805",
   "metadata": {},
   "outputs": [
    {
     "name": "stdout",
     "output_type": "stream",
     "text": [
      "[-0.88891945 -1.55229217  0.70317509 -0.22554673  1.76457144 -1.15426854\n",
      "  1.10119872 -0.49089581  0.57050054  0.17247691]\n"
     ]
    }
   ],
   "source": [
    " heights = np.array([160, 155, 172, 165, 180, 158, 175, 163, 171, 168])\n",
    " mean=np.mean(heights)\n",
    " std_dev = np.std(heights)\n",
    " #normalize the heights\n",
    " normalized_heights=(heights-mean)/ std\n",
    " print(normalized_heights)"
   ]
  },
  {
   "cell_type": "code",
   "execution_count": 14,
   "id": "34f11a65",
   "metadata": {},
   "outputs": [
    {
     "name": "stdout",
     "output_type": "stream",
     "text": [
      "argmax: 4\n"
     ]
    }
   ],
   "source": [
    "array_argmax=np.argmax([160, 155, 172, 165, 180, 158, 175, 163, 171, 168])\n",
    "print(\"argmax:\",array_argmax)"
   ]
  },
  {
   "cell_type": "code",
   "execution_count": 15,
   "id": "2315a9c7",
   "metadata": {},
   "outputs": [
    {
     "name": "stdout",
     "output_type": "stream",
     "text": [
      "argmin: 1\n"
     ]
    }
   ],
   "source": [
    "array_argmin=np.argmin([160, 155, 172, 165, 180, 158, 175, 163, 171, 168])\n",
    "print(\"argmin:\",array_argmin)"
   ]
  },
  {
   "cell_type": "code",
   "execution_count": 17,
   "id": "0d3e5e6b",
   "metadata": {},
   "outputs": [
    {
     "name": "stdout",
     "output_type": "stream",
     "text": [
      "difference between tallest and shortest students': 25\n"
     ]
    }
   ],
   "source": [
    "heights = np.array([160, 155, 172, 165, 180, 158, 175, 163, 171, 168])\n",
    "tallest_height=np.max(heights)\n",
    "shortest_height=np.min(heights)\n",
    "height_difference=tallest_height-shortest_height\n",
    "print(\"difference between tallest and shortest students':\",height_difference)"
   ]
  },
  {
   "cell_type": "code",
   "execution_count": 18,
   "id": "1312d843",
   "metadata": {},
   "outputs": [
    {
     "name": "stdout",
     "output_type": "stream",
     "text": [
      "sample without replacement: [180 155 172 163 171]\n"
     ]
    }
   ],
   "source": [
    "heights = np.array([160, 155, 172, 165, 180, 158, 175, 163, 171, 168])\n",
    "#sample 5 elements without replacement\n",
    "sample_no_replacement=np.random.choice([160, 155, 172, 165, 180, 158, 175, 163, 171, 168], 5,replace=False)\n",
    "print(\"sample without replacement:\",sample_no_replacement)"
   ]
  },
  {
   "cell_type": "code",
   "execution_count": null,
   "id": "1c4627da",
   "metadata": {},
   "outputs": [],
   "source": []
  }
 ],
 "metadata": {
  "kernelspec": {
   "display_name": "Python 3 (ipykernel)",
   "language": "python",
   "name": "python3"
  },
  "language_info": {
   "codemirror_mode": {
    "name": "ipython",
    "version": 3
   },
   "file_extension": ".py",
   "mimetype": "text/x-python",
   "name": "python",
   "nbconvert_exporter": "python",
   "pygments_lexer": "ipython3",
   "version": "3.10.9"
  }
 },
 "nbformat": 4,
 "nbformat_minor": 5
}
